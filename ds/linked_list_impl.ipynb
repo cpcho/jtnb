{
 "cells": [
  {
   "cell_type": "markdown",
   "metadata": {},
   "source": [
    "http://interactivepython.org/courselib/static/pythonds/BasicDS/ImplementinganUnorderedListLinkedLists.html\n",
    "\n",
    "> A reference to None will denote the fact that there is no next node.\n",
    "\n",
    "> It is very important to note that the list class itself does not contain any \n",
    "node objects. Instead it contains a single reference to only the first node in the linked structure.\n",
    "\n",
    "> Reverse a Linked List: https://youtu.be/sYcOK51hl-A"
   ]
  },
  {
   "cell_type": "markdown",
   "metadata": {},
   "source": [
    "# Singly-Linked List"
   ]
  },
  {
   "cell_type": "code",
   "execution_count": 111,
   "metadata": {
    "scrolled": true
   },
   "outputs": [],
   "source": [
    "class ListNode:\n",
    "    def __init__(self, data=None, next=None):\n",
    "        self.data = data\n",
    "        self.next = next\n",
    "\n",
    "    def __repr__(self):\n",
    "        return repr(self.data)\n",
    "\n",
    "class SinglyLinkedList:\n",
    "    def __init__(self):\n",
    "        self.head = None\n",
    "\n",
    "    def __repr__(self):\n",
    "        nodes = []\n",
    "        curr = self.head\n",
    "        while curr:\n",
    "            nodes.append(repr(curr))\n",
    "            curr = curr.next\n",
    "        return '[' + ', '.join(nodes) + ']'\n",
    "\n",
    "    def prepend(self, data):\n",
    "        self.head = ListNode(data=data, next=self.head)\n",
    "\n",
    "    def append(self, data):\n",
    "        if not self.head:\n",
    "            self.head = ListNode(data=data)\n",
    "            return\n",
    "        curr = self.head\n",
    "        while curr.next: # Why?\n",
    "            curr = curr.next\n",
    "        curr.next = ListNode(data=data)\n",
    "\n",
    "    def find(self, key):\n",
    "        curr = self.head\n",
    "        while curr.data != key and curr:\n",
    "            curr = curr.next\n",
    "        return curr\n",
    "\n",
    "    def remove(self, key):\n",
    "        curr = self.head\n",
    "        prev = None\n",
    "        while curr.data != key and curr:\n",
    "            prev = curr\n",
    "            curr = curr.next\n",
    "        if prev is None:\n",
    "            self.head = curr.next\n",
    "        elif curr is not None:\n",
    "            prev.next = curr.next\n",
    "            curr.next = None #un-link\n",
    "\n",
    "    def reverse(self):\n",
    "        curr = self.head\n",
    "        prev = None\n",
    "        next_node = None\n",
    "        while curr:\n",
    "            next_node = curr.next\n",
    "            curr.next = prev\n",
    "            prev = curr\n",
    "            curr = next_node\n",
    "        self.head = prev"
   ]
  },
  {
   "cell_type": "code",
   "execution_count": 112,
   "metadata": {},
   "outputs": [
    {
     "data": {
      "text/plain": [
       "[1, 2, 3, 4, 5]"
      ]
     },
     "execution_count": 112,
     "metadata": {},
     "output_type": "execute_result"
    }
   ],
   "source": [
    "new_list = SinglyLinkedList()\n",
    "new_list.append(1)\n",
    "new_list.append(2)\n",
    "new_list.append(3)\n",
    "new_list.append(4)\n",
    "new_list.append(5)\n",
    "new_list"
   ]
  },
  {
   "cell_type": "code",
   "execution_count": 113,
   "metadata": {},
   "outputs": [
    {
     "data": {
      "text/plain": [
       "4"
      ]
     },
     "execution_count": 113,
     "metadata": {},
     "output_type": "execute_result"
    }
   ],
   "source": [
    "new_list.find(4)"
   ]
  },
  {
   "cell_type": "code",
   "execution_count": 114,
   "metadata": {},
   "outputs": [],
   "source": [
    "new_list.reverse()"
   ]
  },
  {
   "cell_type": "code",
   "execution_count": 115,
   "metadata": {},
   "outputs": [
    {
     "data": {
      "text/plain": [
       "[5, 4, 3, 2, 1]"
      ]
     },
     "execution_count": 115,
     "metadata": {},
     "output_type": "execute_result"
    }
   ],
   "source": [
    "new_list"
   ]
  },
  {
   "cell_type": "markdown",
   "metadata": {},
   "source": [
    "# Doubly-Linked List"
   ]
  },
  {
   "cell_type": "code",
   "execution_count": 11,
   "metadata": {},
   "outputs": [],
   "source": [
    "class DListNode:\n",
    "    \n",
    "    def __init__(self, data=None, prev=None, next=None):\n",
    "        self.data = data\n",
    "        self.prev = prev\n",
    "        self.next = next\n",
    "    \n",
    "    def __repr__(self):\n",
    "        return repr(self.data)\n",
    "    \n",
    "class DoublyLinkedList:\n",
    "    \n",
    "    def __init__(self):\n",
    "        self.head = None\n",
    "        \n",
    "    def __repr__(self):\n",
    "        nodes = []\n",
    "        curr = self.head\n",
    "        while curr:\n",
    "            nodes.append(repr(curr))\n",
    "            curr = curr.next\n",
    "        return '[' + ', '.join(nodes) + ']'\n",
    "    \n",
    "    def prepend(self, data):\n",
    "        new_head = DListNode(data=data, next=self.head)\n",
    "        if self.head:\n",
    "            self.head.prev = new_head\n",
    "        self.head = new_head\n",
    "    \n",
    "    def append(self, data):\n",
    "        if not self.head:\n",
    "            self.head = DListNode(data=data)\n",
    "            return\n",
    "        curr = self.head\n",
    "        while curr.next:\n",
    "            curr = curr.next\n",
    "        curr.next = DListNode(data=data, prev=curr)\n",
    "    \n",
    "    def find(self, key):\n",
    "        curr = self.head\n",
    "        while curr and curr.data != key:\n",
    "            curr = curr.next\n",
    "        return curr\n",
    "    \n",
    "    def remove_element(self, node): # O(1) time\n",
    "        if node.prev:\n",
    "            node.prev.next = node.next\n",
    "        if node.next:\n",
    "            node.next.prev = node.prev\n",
    "        if node is self.head:\n",
    "            self.head = node.next\n",
    "        node.prev = None\n",
    "        node.next = None\n",
    "    \n",
    "    def remove(self, key): # O(n) time\n",
    "        element = self.find(key)\n",
    "        if not element:\n",
    "            return\n",
    "        self.remove_element(element)\n",
    "        \n",
    "    def reverse(self):\n",
    "        curr = self.head\n",
    "        prev_node = None\n",
    "        while curr:\n",
    "            prev_node = curr.prev\n",
    "            curr.prev = curr.next\n",
    "            curr.next = prev_node\n",
    "            curr = curr.prev\n",
    "        self.head = prev_node.prev\n",
    "    "
   ]
  },
  {
   "cell_type": "code",
   "execution_count": null,
   "metadata": {},
   "outputs": [],
   "source": []
  }
 ],
 "metadata": {
  "kernelspec": {
   "display_name": "Python 3",
   "language": "python",
   "name": "python3"
  },
  "language_info": {
   "codemirror_mode": {
    "name": "ipython",
    "version": 3
   },
   "file_extension": ".py",
   "mimetype": "text/x-python",
   "name": "python",
   "nbconvert_exporter": "python",
   "pygments_lexer": "ipython3",
   "version": "3.6.7"
  }
 },
 "nbformat": 4,
 "nbformat_minor": 2
}
