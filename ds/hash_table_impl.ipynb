{
 "cells": [
  {
   "cell_type": "markdown",
   "metadata": {},
   "source": [
    "### Hash Table Implementation\n",
    "http://paulmouzas.github.io/2014/12/31/implementing-a-hash-table.html\n",
    "\n",
    "http://blog.chapagain.com.np/hash-table-implementation-in-python-data-structures-algorithms/\n",
    "\n",
    "Two ways for collision resolution:\n",
    "    \n",
    "    1. Linear probing\n",
    "    2. Chaining (preferred)\n",
    "    "
   ]
  },
  {
   "cell_type": "markdown",
   "metadata": {},
   "source": [
    "### Standard Implementation of Hash Table using Python's built-in hash()"
   ]
  },
  {
   "cell_type": "code",
   "execution_count": 96,
   "metadata": {},
   "outputs": [],
   "source": [
    "hash_table = [[] for _ in range(10)]"
   ]
  },
  {
   "cell_type": "code",
   "execution_count": 97,
   "metadata": {
    "scrolled": true
   },
   "outputs": [
    {
     "data": {
      "text/plain": [
       "[[], [], [], [], [], [], [], [], [], []]"
      ]
     },
     "execution_count": 97,
     "metadata": {},
     "output_type": "execute_result"
    }
   ],
   "source": [
    "hash_table"
   ]
  },
  {
   "cell_type": "code",
   "execution_count": 98,
   "metadata": {},
   "outputs": [],
   "source": [
    "\"\"\"\n",
    "While inserting a new element into the hash table, we first search if the key already exists in the hash table.\n",
    "– If the key already exists in the hash table, we update its value with the new one.\n",
    "– Otherwise, we insert a new key-value pair to the hash table.\n",
    "\"\"\"\n",
    "def insert(hash_table, key, value):\n",
    "    hash_key = hash(key) % len(hash_table)\n",
    "    key_exists = False\n",
    "    bucket = hash_table[hash_key]\n",
    "    for i, kv in enumerate(bucket):\n",
    "        k, v = kv\n",
    "        if key == k:\n",
    "            key_exists = True\n",
    "            break\n",
    "    if key_exists:\n",
    "        bucket[i] = ((key, value)) #replace the key-value pair in the bucket\n",
    "    else:\n",
    "        bucket.append((key, value)) #add the new key-value pair to the end of the bucket"
   ]
  },
  {
   "cell_type": "code",
   "execution_count": 99,
   "metadata": {},
   "outputs": [
    {
     "data": {
      "text/plain": [
       "[[(10, 'Henry'), (20, 'Jiyon'), (10000, 'Here')],\n",
       " [],\n",
       " [],\n",
       " [],\n",
       " [],\n",
       " [(25, 'Together'), (625, 'Love')],\n",
       " [],\n",
       " [],\n",
       " [],\n",
       " []]"
      ]
     },
     "execution_count": 99,
     "metadata": {},
     "output_type": "execute_result"
    }
   ],
   "source": [
    "insert(hash_table, 10, 'Henry')\n",
    "insert(hash_table, 20, 'Jiyon')\n",
    "insert(hash_table, 25, 'Together')\n",
    "insert(hash_table, 625, 'Love')\n",
    "insert(hash_table, 10000, 'Here')\n",
    "hash_table"
   ]
  },
  {
   "cell_type": "code",
   "execution_count": 100,
   "metadata": {
    "scrolled": true
   },
   "outputs": [],
   "source": [
    "\"\"\"\n",
    "While searching for any key in the hash table, we have to loop through \n",
    "each individual sublist.\n",
    "\"\"\"\n",
    "def search(hash_table, key):\n",
    "    hash_key = hash(key) % len(hash_table)\n",
    "    bucket = hash_table[hash_key]\n",
    "    for i, kv in enumerate(bucket):\n",
    "        k, v = kv\n",
    "        if key == k:\n",
    "            return v\n",
    "    raise KeyError"
   ]
  },
  {
   "cell_type": "code",
   "execution_count": 101,
   "metadata": {},
   "outputs": [
    {
     "name": "stdout",
     "output_type": "stream",
     "text": [
      "Love\n"
     ]
    }
   ],
   "source": [
    "print(search(hash_table, 625))"
   ]
  },
  {
   "cell_type": "code",
   "execution_count": 102,
   "metadata": {},
   "outputs": [],
   "source": [
    "\"\"\"\n",
    "While deleting any existing element from the hash table, we first search if the key \n",
    "already exists in the hash table.\n",
    "\n",
    "– If the key is present (found) in the hash table, then we simply delete it. We delete \n",
    "that particular key-value pair from the hash table.\n",
    "– Otherwise, no operation is done. We can simply print a message saying that the key was \n",
    "not found in the hash table.\n",
    "\"\"\"\n",
    "def delete(hash_table, key):\n",
    "    hash_key = hash(key) % len(hash_table)\n",
    "    key_exists = False\n",
    "    bucket = hash_table[hash_key]\n",
    "    for i, kv in enumerate(bucket):\n",
    "        k, v = kv\n",
    "        if key == k:\n",
    "            key_exists = True\n",
    "            break\n",
    "    if key_exists:\n",
    "        del bucket[i]\n",
    "        print('Key {0} deleted: {1}'.format(key, v))\n",
    "    else:\n",
    "        print('key {0} not found'.format(key))"
   ]
  },
  {
   "cell_type": "code",
   "execution_count": 103,
   "metadata": {},
   "outputs": [
    {
     "name": "stdout",
     "output_type": "stream",
     "text": [
      "Key 10 deleted: Henry\n"
     ]
    }
   ],
   "source": [
    "delete(hash_table, 10)"
   ]
  },
  {
   "cell_type": "markdown",
   "metadata": {},
   "source": [
    "### Class HashTable"
   ]
  },
  {
   "cell_type": "code",
   "execution_count": 1,
   "metadata": {},
   "outputs": [],
   "source": [
    "class HashTable(object):\n",
    "    \n",
    "    def __init__(self, size = 10):\n",
    "        self.hash_table = [[] for _ in range(size)]\n",
    "    \n",
    "    def __repr__(self):\n",
    "        return repr(self.hash_table)\n",
    "    \n",
    "    def insert(self, key, value):\n",
    "        hash_key = hash(key) % len(self.hash_table)\n",
    "        key_exists = False\n",
    "        bucket = self.hash_table[hash_key]\n",
    "        for i, kv in enumerate(bucket):\n",
    "            k, v = kv\n",
    "            if key == k:\n",
    "                key_exists = True\n",
    "                break\n",
    "        if key_exists:\n",
    "            bucket[i] = ((key, value))\n",
    "        else:\n",
    "            bucket.append((key, value))\n",
    "            \n",
    "    def search(self, key):\n",
    "        hash_key = hash(key) % len(self.hash_table)\n",
    "        bucket = self.hash_table[hash_key]\n",
    "        for i, kv in enumerate(bucket):\n",
    "            k, v = kv\n",
    "            if k == key:\n",
    "                return v\n",
    "        raise KeyError\n",
    "    \n",
    "    def delete(self, key):\n",
    "        hash_key = hash(key) % len(self.hash_table)\n",
    "        key_exists = False\n",
    "        bucket = self.hash_table[hash_key]\n",
    "        for i, kv in enumerate(bucket):\n",
    "            k, v = kv\n",
    "            if key == k:\n",
    "                key_exists = True\n",
    "                break\n",
    "        if key_exists:\n",
    "            del bucket[i]\n",
    "            print('Key {0} and Value {1} deleted'.format(key, v))\n",
    "        else:\n",
    "            print('Key {0} not found'.format(key))"
   ]
  },
  {
   "cell_type": "code",
   "execution_count": 2,
   "metadata": {},
   "outputs": [
    {
     "data": {
      "text/plain": [
       "[[], [], [], [], [], [], [], [], [], []]"
      ]
     },
     "execution_count": 2,
     "metadata": {},
     "output_type": "execute_result"
    }
   ],
   "source": [
    "ht = HashTable()\n",
    "ht"
   ]
  },
  {
   "cell_type": "code",
   "execution_count": 3,
   "metadata": {},
   "outputs": [
    {
     "data": {
      "text/plain": [
       "[[(10, 'Henry'), (20, 'Jiyon'), (10000, 'Here')], [(1, 'Henry')], [], [], [], [(25, 'Together'), (625, 'Love')], [], [], [], []]"
      ]
     },
     "execution_count": 3,
     "metadata": {},
     "output_type": "execute_result"
    }
   ],
   "source": [
    "ht.insert(1, 'Henry')\n",
    "ht.insert(10, 'Henry')\n",
    "ht.insert(20, 'Jiyon')\n",
    "ht.insert(25, 'Together')\n",
    "ht.insert(625, 'Love')\n",
    "ht.insert(10000, 'Here')\n",
    "ht"
   ]
  },
  {
   "cell_type": "code",
   "execution_count": 4,
   "metadata": {},
   "outputs": [
    {
     "data": {
      "text/plain": [
       "'Henry'"
      ]
     },
     "execution_count": 4,
     "metadata": {},
     "output_type": "execute_result"
    }
   ],
   "source": [
    "ht.search(1)"
   ]
  },
  {
   "cell_type": "code",
   "execution_count": 5,
   "metadata": {},
   "outputs": [
    {
     "name": "stdout",
     "output_type": "stream",
     "text": [
      "Key 10000 and Value Here deleted\n"
     ]
    },
    {
     "data": {
      "text/plain": [
       "[[(10, 'Henry'), (20, 'Jiyon')], [(1, 'Henry')], [], [], [], [(25, 'Together'), (625, 'Love')], [], [], [], []]"
      ]
     },
     "execution_count": 5,
     "metadata": {},
     "output_type": "execute_result"
    }
   ],
   "source": [
    "ht.delete(10000)\n",
    "ht"
   ]
  },
  {
   "cell_type": "code",
   "execution_count": null,
   "metadata": {},
   "outputs": [],
   "source": []
  }
 ],
 "metadata": {
  "kernelspec": {
   "display_name": "Python 3",
   "language": "python",
   "name": "python3"
  },
  "language_info": {
   "codemirror_mode": {
    "name": "ipython",
    "version": 3
   },
   "file_extension": ".py",
   "mimetype": "text/x-python",
   "name": "python",
   "nbconvert_exporter": "python",
   "pygments_lexer": "ipython3",
   "version": "3.6.7"
  }
 },
 "nbformat": 4,
 "nbformat_minor": 2
}
