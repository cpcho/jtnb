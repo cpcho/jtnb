{
 "cells": [
  {
   "cell_type": "markdown",
   "metadata": {},
   "source": [
    "### Hash Table Implementation\n",
    "http://paulmouzas.github.io/2014/12/31/implementing-a-hash-table.html\n",
    "\n",
    "http://blog.chapagain.com.np/hash-table-implementation-in-python-data-structures-algorithms/\n",
    "\n",
    "Two ways for collision resolution:\n",
    "    \n",
    "    1. Linear probing\n",
    "    2. Chaining (preferred)\n",
    "    "
   ]
  },
  {
   "cell_type": "markdown",
   "metadata": {},
   "source": [
    "### Standard Implementation of Hash Table using Python's built-in hash()"
   ]
  },
  {
   "cell_type": "code",
   "execution_count": 7,
   "metadata": {},
   "outputs": [],
   "source": [
    "hash_table = [[] for _ in range(10)]"
   ]
  },
  {
   "cell_type": "code",
   "execution_count": 8,
   "metadata": {
    "scrolled": true
   },
   "outputs": [
    {
     "data": {
      "text/plain": [
       "[[], [], [], [], [], [], [], [], [], []]"
      ]
     },
     "execution_count": 8,
     "metadata": {},
     "output_type": "execute_result"
    }
   ],
   "source": [
    "hash_table"
   ]
  },
  {
   "cell_type": "code",
   "execution_count": 9,
   "metadata": {},
   "outputs": [],
   "source": [
    "\"\"\"\n",
    "While inserting a new element into the hash table, we first search if the key already exists in the hash table.\n",
    "– If the key already exists in the hash table, we update its value with the new one.\n",
    "– Otherwise, we insert a new key-value pair to the hash table.\n",
    "\"\"\"\n",
    "def insert(hash_table, key, value):\n",
    "    hash_key = hash(key) % len(hash_table)\n",
    "    key_exists = False\n",
    "    bucket = hash_table[hash_key]\n",
    "    for i, kv in enumerate(bucket):\n",
    "        k, v = kv\n",
    "        if key == k:\n",
    "            key_exists = True\n",
    "            break\n",
    "    if key_exists:\n",
    "        bucket[i] = ((key, value)) #replace the key-value pair in the bucket\n",
    "    else:\n",
    "        print(i)\n",
    "        bucket.append((key, value)) #add the new key-value pair to the end of the bucket\n"
   ]
  },
  {
   "cell_type": "code",
   "execution_count": 10,
   "metadata": {},
   "outputs": [
    {
     "ename": "UnboundLocalError",
     "evalue": "local variable 'i' referenced before assignment",
     "output_type": "error",
     "traceback": [
      "\u001b[0;31m---------------------------------------------------------------------------\u001b[0m",
      "\u001b[0;31mUnboundLocalError\u001b[0m                         Traceback (most recent call last)",
      "\u001b[0;32m<ipython-input-10-b968b2fa166b>\u001b[0m in \u001b[0;36m<module>\u001b[0;34m\u001b[0m\n\u001b[1;32m      1\u001b[0m \u001b[0;34m\u001b[0m\u001b[0m\n\u001b[0;32m----> 2\u001b[0;31m \u001b[0minsert\u001b[0m\u001b[0;34m(\u001b[0m\u001b[0mhash_table\u001b[0m\u001b[0;34m,\u001b[0m \u001b[0;36m10\u001b[0m\u001b[0;34m,\u001b[0m \u001b[0;34m'Henry'\u001b[0m\u001b[0;34m)\u001b[0m\u001b[0;34m\u001b[0m\u001b[0;34m\u001b[0m\u001b[0m\n\u001b[0m\u001b[1;32m      3\u001b[0m \u001b[0minsert\u001b[0m\u001b[0;34m(\u001b[0m\u001b[0mhash_table\u001b[0m\u001b[0;34m,\u001b[0m \u001b[0;36m20\u001b[0m\u001b[0;34m,\u001b[0m \u001b[0;34m'Jiyon'\u001b[0m\u001b[0;34m)\u001b[0m\u001b[0;34m\u001b[0m\u001b[0;34m\u001b[0m\u001b[0m\n\u001b[1;32m      4\u001b[0m \u001b[0minsert\u001b[0m\u001b[0;34m(\u001b[0m\u001b[0mhash_table\u001b[0m\u001b[0;34m,\u001b[0m \u001b[0;36m25\u001b[0m\u001b[0;34m,\u001b[0m \u001b[0;34m'Together'\u001b[0m\u001b[0;34m)\u001b[0m\u001b[0;34m\u001b[0m\u001b[0;34m\u001b[0m\u001b[0m\n\u001b[1;32m      5\u001b[0m \u001b[0minsert\u001b[0m\u001b[0;34m(\u001b[0m\u001b[0mhash_table\u001b[0m\u001b[0;34m,\u001b[0m \u001b[0;36m625\u001b[0m\u001b[0;34m,\u001b[0m \u001b[0;34m'Love'\u001b[0m\u001b[0;34m)\u001b[0m\u001b[0;34m\u001b[0m\u001b[0;34m\u001b[0m\u001b[0m\n",
      "\u001b[0;32m<ipython-input-9-14b6b59a3faf>\u001b[0m in \u001b[0;36minsert\u001b[0;34m(hash_table, key, value)\u001b[0m\n\u001b[1;32m     16\u001b[0m         \u001b[0mbucket\u001b[0m\u001b[0;34m[\u001b[0m\u001b[0mi\u001b[0m\u001b[0;34m]\u001b[0m \u001b[0;34m=\u001b[0m \u001b[0;34m(\u001b[0m\u001b[0;34m(\u001b[0m\u001b[0mkey\u001b[0m\u001b[0;34m,\u001b[0m \u001b[0mvalue\u001b[0m\u001b[0;34m)\u001b[0m\u001b[0;34m)\u001b[0m \u001b[0;31m#replace the key-value pair in the bucket\u001b[0m\u001b[0;34m\u001b[0m\u001b[0;34m\u001b[0m\u001b[0m\n\u001b[1;32m     17\u001b[0m     \u001b[0;32melse\u001b[0m\u001b[0;34m:\u001b[0m\u001b[0;34m\u001b[0m\u001b[0;34m\u001b[0m\u001b[0m\n\u001b[0;32m---> 18\u001b[0;31m         \u001b[0mprint\u001b[0m\u001b[0;34m(\u001b[0m\u001b[0mi\u001b[0m\u001b[0;34m)\u001b[0m\u001b[0;34m\u001b[0m\u001b[0;34m\u001b[0m\u001b[0m\n\u001b[0m\u001b[1;32m     19\u001b[0m         \u001b[0mbucket\u001b[0m\u001b[0;34m.\u001b[0m\u001b[0mappend\u001b[0m\u001b[0;34m(\u001b[0m\u001b[0;34m(\u001b[0m\u001b[0mkey\u001b[0m\u001b[0;34m,\u001b[0m \u001b[0mvalue\u001b[0m\u001b[0;34m)\u001b[0m\u001b[0;34m)\u001b[0m \u001b[0;31m#add the new key-value pair to the end of the bucket\u001b[0m\u001b[0;34m\u001b[0m\u001b[0;34m\u001b[0m\u001b[0m\n",
      "\u001b[0;31mUnboundLocalError\u001b[0m: local variable 'i' referenced before assignment"
     ]
    }
   ],
   "source": [
    "\n",
    "insert(hash_table, 10, 'Henry')\n",
    "insert(hash_table, 20, 'Jiyon')\n",
    "insert(hash_table, 25, 'Together')\n",
    "insert(hash_table, 625, 'Love')\n",
    "insert(hash_table, 10000, 'Here')\n",
    "hash_table"
   ]
  },
  {
   "cell_type": "code",
   "execution_count": 100,
   "metadata": {
    "scrolled": true
   },
   "outputs": [],
   "source": [
    "\"\"\"\n",
    "While searching for any key in the hash table, we have to loop through \n",
    "each individual sublist.\n",
    "\"\"\"\n",
    "def search(hash_table, key):\n",
    "    hash_key = hash(key) % len(hash_table)\n",
    "    bucket = hash_table[hash_key]\n",
    "    for i, kv in enumerate(bucket):\n",
    "        k, v = kv\n",
    "        if key == k:\n",
    "            return v\n",
    "    raise KeyError"
   ]
  },
  {
   "cell_type": "code",
   "execution_count": 101,
   "metadata": {},
   "outputs": [
    {
     "name": "stdout",
     "output_type": "stream",
     "text": [
      "Love\n"
     ]
    }
   ],
   "source": [
    "print(search(hash_table, 625))"
   ]
  },
  {
   "cell_type": "code",
   "execution_count": 102,
   "metadata": {},
   "outputs": [],
   "source": [
    "\"\"\"\n",
    "While deleting any existing element from the hash table, we first search if the key \n",
    "already exists in the hash table.\n",
    "\n",
    "– If the key is present (found) in the hash table, then we simply delete it. We delete \n",
    "that particular key-value pair from the hash table.\n",
    "– Otherwise, no operation is done. We can simply print a message saying that the key was \n",
    "not found in the hash table.\n",
    "\"\"\"\n",
    "def delete(hash_table, key):\n",
    "    hash_key = hash(key) % len(hash_table)\n",
    "    key_exists = False\n",
    "    bucket = hash_table[hash_key]\n",
    "    for i, kv in enumerate(bucket):\n",
    "        k, v = kv\n",
    "        if key == k:\n",
    "            key_exists = True\n",
    "            break\n",
    "    if key_exists:\n",
    "        del bucket[i]\n",
    "        print('Key {0} deleted: {1}'.format(key, v))\n",
    "    else:\n",
    "        print('key {0} not found'.format(key))"
   ]
  },
  {
   "cell_type": "code",
   "execution_count": 103,
   "metadata": {},
   "outputs": [
    {
     "name": "stdout",
     "output_type": "stream",
     "text": [
      "Key 10 deleted: Henry\n"
     ]
    }
   ],
   "source": [
    "delete(hash_table, 10)"
   ]
  },
  {
   "cell_type": "markdown",
   "metadata": {},
   "source": [
    "### Class HashTable"
   ]
  },
  {
   "cell_type": "code",
   "execution_count": 1,
   "metadata": {},
   "outputs": [],
   "source": [
    "class HashTable:\n",
    "\n",
    "    def __init__(self, size = 10):\n",
    "        self.hash_table = [[] for _ in range(size)]\n",
    "        self.key_exists = False\n",
    "\n",
    "    def __repr__(self):\n",
    "        return repr(self.hash_table)\n",
    "\n",
    "    # https://stackoverflow.com/a/3611804/5922564\n",
    "    def insert(self, key, value):\n",
    "        bucket = self.bucket_generator(key)\n",
    "#         print('Bucket List', list(enumerate(bucket)))\n",
    "        for i, kv in enumerate(bucket):\n",
    "            k, v = kv\n",
    "            if key == k:\n",
    "                self.key_exists = True\n",
    "                break\n",
    "        if self.key_exists:\n",
    "            print('key already exists.')\n",
    "            bucket[i] = ((key, value))\n",
    "        else:\n",
    "            bucket.append((key, value))\n",
    "\n",
    "    def search(self, key):\n",
    "        bucket = self.bucket_generator(key)\n",
    "        for i, kv in enumerate(bucket):\n",
    "            k, v = kv\n",
    "            if key == k:\n",
    "                self.key_exists = True\n",
    "        if self.key_exists:\n",
    "            print('Key {0} exists. Value: {1}'.format(key, v))\n",
    "            return ''\n",
    "        else:\n",
    "            print('Key {0} does not exist'.format(key))\n",
    "            raise KeyError\n",
    "\n",
    "    def delete(self, key):\n",
    "        bucket = self.bucket_generator(key)\n",
    "        for i, kv in enumerate(bucket):\n",
    "            k, v = kv\n",
    "            if key == k:\n",
    "                del bucket[i]\n",
    "                print('Key {0} is deleted.'.format(key))\n",
    "                return ''\n",
    "        print('Key {0} is not found.'.format(key))\n",
    "        raise KeyError\n",
    "\n",
    "    def bucket_generator(self, key):\n",
    "        hash_key = hash(key) % len(self.hash_table)\n",
    "        bucket = self.hash_table[hash_key]\n",
    "        return bucket"
   ]
  },
  {
   "cell_type": "code",
   "execution_count": 2,
   "metadata": {},
   "outputs": [
    {
     "data": {
      "text/plain": [
       "[[], [], [], [], [], [], [], [], [], []]"
      ]
     },
     "execution_count": 2,
     "metadata": {},
     "output_type": "execute_result"
    }
   ],
   "source": [
    "ht = HashTable()\n",
    "ht"
   ]
  },
  {
   "cell_type": "code",
   "execution_count": 3,
   "metadata": {},
   "outputs": [
    {
     "name": "stdout",
     "output_type": "stream",
     "text": [
      "Bucket List []\n",
      "Bucket List []\n",
      "Bucket List [(0, (10, 'Henry'))]\n",
      "Bucket List []\n",
      "Bucket List [(0, (25, 'Together'))]\n",
      "Bucket List [(0, (10, 'Henry')), (1, (20, 'Jiyon'))]\n"
     ]
    },
    {
     "data": {
      "text/plain": [
       "[[(10, 'Henry'), (20, 'Jiyon'), (10000, 'Here')], [(1, 'Henry')], [], [], [], [(25, 'Together'), (625, 'Love')], [], [], [], []]"
      ]
     },
     "execution_count": 3,
     "metadata": {},
     "output_type": "execute_result"
    }
   ],
   "source": [
    "ht.insert(1, 'Henry')\n",
    "ht.insert(10, 'Henry')\n",
    "ht.insert(20, 'Jiyon')\n",
    "ht.insert(25, 'Together')\n",
    "ht.insert(625, 'Love')\n",
    "ht.insert(10000, 'Here')\n",
    "ht"
   ]
  },
  {
   "cell_type": "code",
   "execution_count": 4,
   "metadata": {},
   "outputs": [
    {
     "data": {
      "text/plain": [
       "'Henry'"
      ]
     },
     "execution_count": 4,
     "metadata": {},
     "output_type": "execute_result"
    }
   ],
   "source": [
    "ht.search(1)"
   ]
  },
  {
   "cell_type": "code",
   "execution_count": 5,
   "metadata": {},
   "outputs": [
    {
     "name": "stdout",
     "output_type": "stream",
     "text": [
      "Key 10000 and Value Here deleted\n"
     ]
    },
    {
     "data": {
      "text/plain": [
       "[[(10, 'Henry'), (20, 'Jiyon')], [(1, 'Henry')], [], [], [], [(25, 'Together'), (625, 'Love')], [], [], [], []]"
      ]
     },
     "execution_count": 5,
     "metadata": {},
     "output_type": "execute_result"
    }
   ],
   "source": [
    "ht.delete(10000)\n",
    "ht"
   ]
  },
  {
   "cell_type": "code",
   "execution_count": null,
   "metadata": {},
   "outputs": [],
   "source": []
  }
 ],
 "metadata": {
  "kernelspec": {
   "display_name": "Python 3",
   "language": "python",
   "name": "python3"
  },
  "language_info": {
   "codemirror_mode": {
    "name": "ipython",
    "version": 3
   },
   "file_extension": ".py",
   "mimetype": "text/x-python",
   "name": "python",
   "nbconvert_exporter": "python",
   "pygments_lexer": "ipython3",
   "version": "3.6.7"
  }
 },
 "nbformat": 4,
 "nbformat_minor": 2
}
