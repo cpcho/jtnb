{
 "cells": [
  {
   "cell_type": "markdown",
   "metadata": {},
   "source": [
    "Merge sort is a perfectly elegant example of a Divide and Conquer algorithm. \n",
    "It simple uses the 2 main steps of such an algorithm:\n",
    "\n",
    "(1) Continuously divide the unsorted list until you have N sublists, where each sublist \n",
    "has 1 element that is “unsorted” and N is the number of elements in the original array.\n",
    "\n",
    "(2) Repeatedly merge i.e conquer the sublists together 2 at a time to produce new sorted \n",
    "sublists until all elements have been fully merged into a single sorted array."
   ]
  },
  {
   "cell_type": "code",
   "execution_count": 1,
   "metadata": {},
   "outputs": [],
   "source": [
    "def merge_sort(arr):\n",
    "    if len(arr) > 1:\n",
    "        mid = len(arr) // 2\n",
    "        L = arr[:mid]\n",
    "        R = arr[mid:]\n",
    "        merge_sort(L)\n",
    "        merge_sort(R)\n",
    "        \n",
    "        i = j = k = 0\n",
    "        while i < len(L) and j <len(R):\n",
    "            if L[i] < R[j]:\n",
    "                arr[k] = L[i]\n",
    "                i+=1\n",
    "            else:\n",
    "                arr[k] = R[j]\n",
    "                j+=1\n",
    "            k+=1\n",
    "        \n",
    "        while i <len(L):\n",
    "            arr[k] = L[i]\n",
    "            i+=1\n",
    "            k+=1\n",
    "        \n",
    "        while j <len(R):\n",
    "            arr[k] = R[j]\n",
    "            j+=1\n",
    "            k+=1\n",
    "        \n",
    "        return arr"
   ]
  },
  {
   "cell_type": "code",
   "execution_count": 3,
   "metadata": {},
   "outputs": [
    {
     "data": {
      "text/plain": [
       "[2, 3, 4, 5, 10, 15]"
      ]
     },
     "execution_count": 3,
     "metadata": {},
     "output_type": "execute_result"
    }
   ],
   "source": [
    "merge_sort([15, 3, 5, 2, 10, 4])"
   ]
  },
  {
   "cell_type": "markdown",
   "metadata": {},
   "source": [
    "Alternative Version"
   ]
  },
  {
   "cell_type": "code",
   "execution_count": null,
   "metadata": {},
   "outputs": [],
   "source": [
    "def merge_sort(arr):\n",
    "    if len(arr) <= 1:\n",
    "        return arr\n",
    "\n",
    "    mid = len(arr) // 2\n",
    "    # Perform merge_sort recursively on both halves\n",
    "    L, R = merge_sort(arr[:mid]), merge_sort(arr[mid:])\n",
    "\n",
    "    # Merge each side together\n",
    "    return merge(L, R, arr.copy())\n",
    "\n",
    "def merge(l, r, merged):\n",
    "    l_cursor, r_cursor = 0, 0\n",
    "    while l_cursor < len(l) and r_cursor < len(r):\n",
    "\n",
    "        # Sort each one and place into the result\n",
    "        if l[l_cursor] <= r[r_cursor]:\n",
    "            merged[l_cursor + r_cursor] = l[l_cursor]\n",
    "            l_cursor += 1\n",
    "        else:\n",
    "            merged[l_cursor + r_cursor] = r[r_cursor]\n",
    "            r_cursor += 1\n",
    "\n",
    "    for l_cursor in range(l_cursor, len(l)):\n",
    "        merged[l_cursor + r_cursor] = l[l_cursor]\n",
    "\n",
    "    for r_cursor in range(r_cursor, len(r)):\n",
    "        merged[l_cursor + r_cursor] = r[r_cursor]\n",
    "\n",
    "    return merged"
   ]
  },
  {
   "cell_type": "code",
   "execution_count": 4,
   "metadata": {},
   "outputs": [
    {
     "data": {
      "text/plain": [
       "[2, 3, 5, 10, 11]"
      ]
     },
     "execution_count": 4,
     "metadata": {},
     "output_type": "execute_result"
    }
   ],
   "source": [
    "num_list = [11, 3, 5, 2, 10]\n",
    "merge_sort(num_list)"
   ]
  },
  {
   "cell_type": "code",
   "execution_count": null,
   "metadata": {},
   "outputs": [],
   "source": []
  },
  {
   "cell_type": "code",
   "execution_count": null,
   "metadata": {},
   "outputs": [],
   "source": []
  }
 ],
 "metadata": {
  "kernelspec": {
   "display_name": "Python 3",
   "language": "python",
   "name": "python3"
  },
  "language_info": {
   "codemirror_mode": {
    "name": "ipython",
    "version": 3
   },
   "file_extension": ".py",
   "mimetype": "text/x-python",
   "name": "python",
   "nbconvert_exporter": "python",
   "pygments_lexer": "ipython3",
   "version": "3.6.7"
  }
 },
 "nbformat": 4,
 "nbformat_minor": 2
}
