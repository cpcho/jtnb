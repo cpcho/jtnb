{
 "cells": [
  {
   "cell_type": "code",
   "execution_count": 1,
   "metadata": {},
   "outputs": [],
   "source": [
    "\"\"\"\n",
    "On each loop iteration, insertion sort removes one element from the array. \n",
    "It then finds the location where that element belongs within another sorted array \n",
    "and inserts it there. It repeats this process until no input elements remain.\n",
    "\"\"\"\n",
    "def insertion_sort(arr, simulation=False):\n",
    "    for i in range(len(arr)):\n",
    "        cursor = arr[i]\n",
    "        pos = i\n",
    "\n",
    "        while pos > 1 and arr[pos - 1] > cursor:\n",
    "            arr[pos] = arr[pos - 1]\n",
    "            pos = pos - 1\n",
    "\n",
    "        arr[pos] = cursor\n",
    "\n",
    "    return arr\n",
    "\n",
    "# print(insertion_sort(num_list))"
   ]
  }
 ],
 "metadata": {
  "kernelspec": {
   "display_name": "Python 3",
   "language": "python",
   "name": "python3"
  },
  "language_info": {
   "codemirror_mode": {
    "name": "ipython",
    "version": 3
   },
   "file_extension": ".py",
   "mimetype": "text/x-python",
   "name": "python",
   "nbconvert_exporter": "python",
   "pygments_lexer": "ipython3",
   "version": "3.6.7"
  }
 },
 "nbformat": 4,
 "nbformat_minor": 2
}
