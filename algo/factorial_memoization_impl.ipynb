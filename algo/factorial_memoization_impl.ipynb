{
 "cells": [
  {
   "cell_type": "code",
   "execution_count": 5,
   "metadata": {},
   "outputs": [],
   "source": [
    "import random\n",
    "def factorial(n):\n",
    "    num = n\n",
    "    if num == 0:\n",
    "        return 1\n",
    "    # 5! = 5*4! = 5*4*3! = 5*4*3*2! = 5*4*3*2*1!\n",
    "    return num * (factorial(num - 1))"
   ]
  },
  {
   "cell_type": "code",
   "execution_count": 6,
   "metadata": {},
   "outputs": [
    {
     "name": "stdout",
     "output_type": "stream",
     "text": [
      "120\n"
     ]
    }
   ],
   "source": [
    "print(factorial(5))"
   ]
  },
  {
   "cell_type": "code",
   "execution_count": 7,
   "metadata": {},
   "outputs": [],
   "source": [
    "memo ={}\n",
    "\n",
    "def fact(n):\n",
    "    if n in memo:\n",
    "        return memo[n]\n",
    "    elif n == 0:\n",
    "        return 1\n",
    "    else:\n",
    "        x = fact(n-1) * n\n",
    "        memo[n] = x\n",
    "        return x"
   ]
  },
  {
   "cell_type": "code",
   "execution_count": 8,
   "metadata": {},
   "outputs": [
    {
     "name": "stdout",
     "output_type": "stream",
     "text": [
      "120 24\n"
     ]
    }
   ],
   "source": [
    "a = fact(5)\n",
    "b = fact(4)\n",
    "print(a,b)"
   ]
  }
 ],
 "metadata": {
  "kernelspec": {
   "display_name": "Python 3",
   "language": "python",
   "name": "python3"
  },
  "language_info": {
   "codemirror_mode": {
    "name": "ipython",
    "version": 3
   },
   "file_extension": ".py",
   "mimetype": "text/x-python",
   "name": "python",
   "nbconvert_exporter": "python",
   "pygments_lexer": "ipython3",
   "version": "3.6.7"
  }
 },
 "nbformat": 4,
 "nbformat_minor": 2
}
