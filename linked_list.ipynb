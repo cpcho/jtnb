{
 "cells": [
  {
   "cell_type": "markdown",
   "metadata": {},
   "source": [
    "# Singly-Linked List"
   ]
  },
  {
   "cell_type": "code",
   "execution_count": 10,
   "metadata": {},
   "outputs": [],
   "source": [
    "class Node:\n",
    "    def __init__(self, data):\n",
    "        self.data = data\n",
    "        self.next = None\n",
    "\n",
    "class LinkedList:\n",
    "    def __init__(self, data):\n",
    "        self.head = Node(data)\n",
    "    \n",
    "    def append(self, data):\n",
    "        curr = self.head\n",
    "        while curr.next is not None:\n",
    "            curr = curr.next\n",
    "        curr.next = Node(data)\n",
    "    \n",
    "    def search(self, data):\n",
    "        curr = self.head\n",
    "        while curr is not None:\n",
    "            if curr.data == data:\n",
    "                return True\n",
    "            else:\n",
    "                curr = curr.next\n",
    "        return False\n",
    "    \n",
    "    def remove(self, data):\n",
    "        if self.search(data) is not True:\n",
    "            return \"Not in list\"\n",
    "        else:\n",
    "            curr = self.head\n",
    "            while curr is not None:\n",
    "                if curr.next.data == data:\n",
    "                    curr.next = curr.next.next\n",
    "                    break\n",
    "                else:\n",
    "                    curr = curr.next\n",
    "        \n",
    "        \n",
    "        \n",
    "     \n",
    "    def print(self):\n",
    "        curr = self.head\n",
    "        while curr is not None:\n",
    "            if curr.data is not None:\n",
    "                print(curr.data)\n",
    "            curr = curr.next\n",
    "    \n",
    "    "
   ]
  },
  {
   "cell_type": "code",
   "execution_count": 11,
   "metadata": {},
   "outputs": [
    {
     "name": "stdout",
     "output_type": "stream",
     "text": [
      "10\n",
      "20\n",
      "30\n",
      "---\n",
      "10\n",
      "30\n"
     ]
    }
   ],
   "source": [
    "v = LinkedList(None)\n",
    "\n",
    "v.append(10)\n",
    "v.append(20)\n",
    "v.append(30)\n",
    "v.print()\n",
    "print('---')\n",
    "v.remove(20)\n",
    "v.print()"
   ]
  },
  {
   "cell_type": "code",
   "execution_count": null,
   "metadata": {},
   "outputs": [],
   "source": []
  }
 ],
 "metadata": {
  "kernelspec": {
   "display_name": "Python 3",
   "language": "python",
   "name": "python3"
  }
 },
 "nbformat": 4,
 "nbformat_minor": 2
}
