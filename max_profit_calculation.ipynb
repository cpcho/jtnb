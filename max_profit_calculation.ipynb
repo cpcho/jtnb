{
 "cells": [
  {
   "cell_type": "code",
   "execution_count": 7,
   "metadata": {},
   "outputs": [],
   "source": [
    "\"\"\"\n",
    "Say you have an array for which the ith element is the price of a given stock on day i.\n",
    "If you were only permitted to complete at most one transaction (ie, buy one and sell \n",
    "one share of the stock), design an algorithm to find the maximum profit. Note that you cannot sell a stock before you buy one.\n",
    "\n",
    "Example 1:\n",
    "    Input: [7, 1, 5, 3, 6, 4]\n",
    "    Output: 5\n",
    "    Buy on day 2 (price = 1) and sell on day 5 (price = 6), profit = 6-1 = 5.\n",
    "    Not 7-1 = 6, as selling price needs to be larger than buying price.\n",
    "Example 2:\n",
    "    Input: [7, 6, 4, 3, 1]\n",
    "    Output: 0\n",
    "    In this case, no transaction is done, i.e. max profit = 0.\n",
    "Example 3:\n",
    "    Input: [2, 4, 1]\n",
    "    Output: 2\n",
    "\"\"\"\n",
    "def maxProfit(prices):\n",
    "    \"\"\"\n",
    "    :type prices: List[int]\n",
    "    :rtype: int\n",
    "    \"\"\"\n",
    "    min_price, max_profit = float('inf'), 0\n",
    "    for price in prices:\n",
    "        min_price = min(min_price, price)\n",
    "        profit = price - min_price\n",
    "        max_profit = max(max_profit, profit)\n",
    "    return max_profit"
   ]
  },
  {
   "cell_type": "code",
   "execution_count": 8,
   "metadata": {},
   "outputs": [
    {
     "name": "stdout",
     "output_type": "stream",
     "text": [
      "2\n"
     ]
    }
   ],
   "source": [
    "arr = [2, 4, 1]\n",
    "print(maxProfit(arr))"
   ]
  },
  {
   "cell_type": "code",
   "execution_count": 5,
   "metadata": {},
   "outputs": [],
   "source": [
    "def max_profit_alt(prices):\n",
    "    if prices == []:\n",
    "        return 0\n",
    "    min_price = prices[0]\n",
    "    min_price_idx = prices.index(min_price)\n",
    "    for i in prices[1:(len(prices)-1)]:\n",
    "        if i >= min_price:\n",
    "            continue\n",
    "        else:\n",
    "            min_price = i\n",
    "            min_price_idx = prices.index(i)\n",
    "    max_price = min_price\n",
    "    for j in prices[min_price_idx:]:\n",
    "        if j > max_price:\n",
    "            max_price = j\n",
    "        elif j <= max_price or j == 0:\n",
    "            continue\n",
    "    return (max_price - min_price)\n",
    "\n"
   ]
  },
  {
   "cell_type": "code",
   "execution_count": 6,
   "metadata": {},
   "outputs": [
    {
     "name": "stdout",
     "output_type": "stream",
     "text": [
      "2\n"
     ]
    }
   ],
   "source": [
    "print(max_profit_alt(arr))"
   ]
  },
  {
   "cell_type": "code",
   "execution_count": null,
   "metadata": {},
   "outputs": [],
   "source": []
  }
 ],
 "metadata": {
  "kernelspec": {
   "display_name": "Python 3",
   "language": "python",
   "name": "python3"
  },
  "language_info": {
   "codemirror_mode": {
    "name": "ipython",
    "version": 3
   },
   "file_extension": ".py",
   "mimetype": "text/x-python",
   "name": "python",
   "nbconvert_exporter": "python",
   "pygments_lexer": "ipython3",
   "version": "3.6.7"
  }
 },
 "nbformat": 4,
 "nbformat_minor": 2
}
