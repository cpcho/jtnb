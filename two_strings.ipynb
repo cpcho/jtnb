{
 "cells": [
  {
   "cell_type": "code",
   "execution_count": 3,
   "metadata": {},
   "outputs": [],
   "source": [
    "def twoStrings(s1, s2):\n",
    "    s1_set = (c for c in s1)\n",
    "    s2_set = (d for d in s2)\n",
    "    s1_list = list(s1_set)\n",
    "    s2_list = list(s2_set)\n",
    "    check_bool = None\n",
    "    return s2_list\n",
    "\n",
    "    for c in s1_list:\n",
    "        if c in s2_list:\n",
    "            check_bool = True\n",
    "            break\n",
    "        else:\n",
    "            check_bool = False\n",
    "    if check_bool:\n",
    "        return 'YES'\n",
    "    else:\n",
    "        return 'NO'"
   ]
  }
 ],
 "metadata": {
  "kernelspec": {
   "display_name": "Python 3",
   "language": "python",
   "name": "python3"
  },
  "language_info": {
   "codemirror_mode": {
    "name": "ipython",
    "version": 3
   },
   "file_extension": ".py",
   "mimetype": "text/x-python",
   "name": "python",
   "nbconvert_exporter": "python",
   "pygments_lexer": "ipython3",
   "version": "3.6.7"
  }
 },
 "nbformat": 4,
 "nbformat_minor": 2
}
