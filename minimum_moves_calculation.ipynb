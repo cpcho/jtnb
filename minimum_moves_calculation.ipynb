{
 "cells": [
  {
   "cell_type": "code",
   "execution_count": 5,
   "metadata": {},
   "outputs": [],
   "source": [
    "a = [30523, 304241]\n",
    "m = [41322, 532351]"
   ]
  },
  {
   "cell_type": "code",
   "execution_count": 6,
   "metadata": {},
   "outputs": [
    {
     "name": "stdout",
     "output_type": "stream",
     "text": [
      "14\n"
     ]
    }
   ],
   "source": [
    "def minimum_moves(a, m):\n",
    "    if len(a) != len(m):\n",
    "        return 'Two arrays do not have a same length'\n",
    "    broken_a_total = split_item(a)\n",
    "    broken_m_total = split_item(m)\n",
    "    idx = 0\n",
    "    min_moves = 0\n",
    "    while idx <= len(broken_a_total) - 1:\n",
    "        if len(broken_a_total) == len(broken_m_total):\n",
    "            min_moves += abs(int(broken_a_total[idx]) - int(broken_m_total[idx]))\n",
    "            idx += 1\n",
    "        else:\n",
    "            return 'Two broken arrays do not have a same length'\n",
    "    return min_moves\n",
    "\n",
    "def split_item(arr):\n",
    "    broken_arr = []\n",
    "    broken_arr_total = []\n",
    "    idx = 0\n",
    "    for i in arr:\n",
    "        broken_arr.append(str(i))\n",
    "    while idx <= len(broken_arr) - 1:\n",
    "        for i in broken_arr[idx]:\n",
    "            broken_arr_total.append(i)\n",
    "        idx += 1\n",
    "    return broken_arr_total\n",
    "\n",
    "print(minimum_moves(a, m))"
   ]
  },
  {
   "cell_type": "code",
   "execution_count": 1,
   "metadata": {},
   "outputs": [],
   "source": [
    "# def minimum_moves(a, m):\n",
    "# \tbroken_a = []\n",
    "# \tbroken_a_total = []\n",
    "# \tidx = 0\n",
    "# \tfor i in a:\n",
    "# \t\tbroken_a.append(str(i))\n",
    "# \twhile idx <= len(broken_a) - 1:\n",
    "# \t\tfor i in broken_a[idx]:\n",
    "# \t\t\tbroken_a_total.append(i)\n",
    "# \t\tidx += 1\n",
    "# \tbroken_m = []\n",
    "# \tbroken_m_total = []\n",
    "# \tidx = 0\n",
    "# \tfor i in m:\n",
    "# \t\tbroken_m.append(str(i))\n",
    "# \twhile idx <= len(broken_m) - 1:\n",
    "# \t\tfor i in broken_m[idx]:\n",
    "# \t\t\tbroken_m_total.append(i)\n",
    "# \t\tidx += 1\n",
    "# \tidx = 0\n",
    "# \tmin_moves = 0\n",
    "# \twhile idx <= len(broken_a_total) - 1:\n",
    "# \t\tmin_moves += abs(int(broken_a_total[idx]) - int(broken_m_total[idx]))\n",
    "# \t\tidx += 1\n",
    "# \treturn min_moves"
   ]
  }
 ],
 "metadata": {
  "kernelspec": {
   "display_name": "Python 3",
   "language": "python",
   "name": "python3"
  },
  "language_info": {
   "codemirror_mode": {
    "name": "ipython",
    "version": 3
   },
   "file_extension": ".py",
   "mimetype": "text/x-python",
   "name": "python",
   "nbconvert_exporter": "python",
   "pygments_lexer": "ipython3",
   "version": "3.6.7"
  }
 },
 "nbformat": 4,
 "nbformat_minor": 2
}
